{
 "cells": [
  {
   "cell_type": "markdown",
   "metadata": {},
   "source": [
    "# Object Oriented Programming\n",
    "## Laboratory Exercise \n",
    "Deadline: 11:59pm Oct 8, 2024\n",
    "\n",
    "Upload you this file together with your answer, the filename should be DSA_Lab3_exercise<name_and_section>.ipynb\n",
    "\n",
    "Upload to https://docs.google.com/forms/d/e/1FAIpQLSdbYz8nlwvYws-ukmS2CcJE6YGgJxpD2y0tVvAxfyz-_pV4mg/viewform?usp=pp_url\n"
   ]
  },
  {
   "cell_type": "markdown",
   "metadata": {},
   "source": [
    "### Lab Exercise 1\n",
    "\n",
    "From a given list of integers, create a new list using comprehension that will compute the square of odd integer elements.\n",
    "\n",
    "##### Sample calls:\n",
    "\n",
    "[2,4,3] == [9]\n",
    "[0,0,1,1] == [1,1]\n"
   ]
  },
  {
   "cell_type": "code",
   "execution_count": 1,
   "metadata": {},
   "outputs": [
    {
     "name": "stdout",
     "output_type": "stream",
     "text": [
      "[9, 1, 1]\n"
     ]
    }
   ],
   "source": [
    "# User input for list of integers\n",
    "input_list = list(map(int, input(\"Enter a list of integers separated by spaces: \").split()))\n",
    "\n",
    "# List comprehension to compute the square of odd integer elements\n",
    "squared_odds = [x**2 for x in input_list if x % 2 != 0]\n",
    "\n",
    "# Print the list of squared odd integers.\n",
    "print(squared_odds)"
   ]
  },
  {
   "cell_type": "markdown",
   "metadata": {},
   "source": [
    "### Lab Exercise 2\n",
    "\n",
    "Using comprehension, create a new list of tuples from two given lists:\n",
    "\n",
    "##### Sample calls:\n",
    "\n",
    "list1[1,2,3]\n",
    "list2[\"mark\",\"alice\",\"john]\n",
    "\n",
    "result: listOfTuple[(1,\"mark\"),(2,\"alice\"),(3,\"john\")] "
   ]
  },
  {
   "cell_type": "code",
   "execution_count": 7,
   "metadata": {},
   "outputs": [
    {
     "name": "stdout",
     "output_type": "stream",
     "text": [
      "[(1, 'mark'), (2, 'alice'), (3, 'john')]\n"
     ]
    }
   ],
   "source": [
    "# User input for the lists.\n",
    "list1 = list(map(int, input(\"Enter the first list of integers separated by spaces: \").split()))\n",
    "list2 = input(\"Enter the second list of strings separated by spaces: \").split()\n",
    "\n",
    "# List comprehension to create a new list of tuples.\n",
    "listOfTuple = [(list1[i], list2[i]) for i in range(len(list1))]\n",
    "\n",
    "# Print the list of tuples.\n",
    "print(listOfTuple)"
   ]
  },
  {
   "cell_type": "markdown",
   "metadata": {},
   "source": [
    "### Lab Exercise 3\n",
    "\n",
    "#### Provide a list comprehension that implementation for a function called vowelsToUpper with the following signature:\n",
    "\n",
    "method name : vowelsToUpper\n",
    "\n",
    "input argument : String \n",
    "\n",
    "return argument : String\n",
    "\n",
    "#### vowelsToUpper must return a version of its String argument with all its vowels changed to their uppercase forms. Nonvowel characters stay as is.\n",
    "\n",
    "##### Sample calls:\n",
    "\n",
    "vowelsToUpper \"\" == \"\"\n",
    "\n",
    "vowelsToUpper \"Hello, world!\" == \"HEllO, wOrld!\"\n",
    "\n",
    "vowelsToUpper \"hello hi bye\" == \"hEllO hI byE\""
   ]
  },
  {
   "cell_type": "code",
   "execution_count": 6,
   "metadata": {},
   "outputs": [
    {
     "name": "stdout",
     "output_type": "stream",
     "text": [
      "hEllO hI byE\n"
     ]
    }
   ],
   "source": [
    "# Function to convert vowels to uppercase in a string.\n",
    "def vowelsToUpper(s):\n",
    "    vowels = 'aeiou'\n",
    "    return ''.join([char.upper() if char in vowels else char for char in s])\n",
    "\n",
    "# User input for the string.\n",
    "user_input = input(\"Enter a string: \")\n",
    "\n",
    "# Call the function with user input and print the result.\n",
    "print(vowelsToUpper(user_input))"
   ]
  }
 ],
 "metadata": {
  "kernelspec": {
   "display_name": "Python 3",
   "language": "python",
   "name": "python3"
  },
  "language_info": {
   "codemirror_mode": {
    "name": "ipython",
    "version": 3
   },
   "file_extension": ".py",
   "mimetype": "text/x-python",
   "name": "python",
   "nbconvert_exporter": "python",
   "pygments_lexer": "ipython3",
   "version": "3.12.0"
  }
 },
 "nbformat": 4,
 "nbformat_minor": 2
}
